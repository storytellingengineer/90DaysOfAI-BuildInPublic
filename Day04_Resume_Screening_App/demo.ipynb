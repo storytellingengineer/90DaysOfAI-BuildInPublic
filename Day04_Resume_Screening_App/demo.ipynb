{
  "nbformat": 4,
  "nbformat_minor": 0,
  "metadata": {
    "colab": {
      "provenance": []
    },
    "kernelspec": {
      "name": "python3",
      "display_name": "Python 3"
    },
    "language_info": {
      "name": "python"
    }
  },
  "cells": [
    {
      "cell_type": "markdown",
      "source": [
        "# 📘 NLP Resume Screening - Demo"
      ],
      "metadata": {
        "id": "VLB-JMWiGbUM"
      }
    },
    {
      "cell_type": "code",
      "execution_count": null,
      "metadata": {
        "id": "l8PKqCYYGYFz"
      },
      "outputs": [],
      "source": [
        "import spacy\n",
        "from sklearn.feature_extraction.text import TfidfVectorizer\n",
        "from sklearn.metrics.pairwise import cosine_similarity\n",
        "\n",
        "# Load SpaCy model\n",
        "nlp = spacy.load(\"en_core_web_sm\")\n",
        "\n",
        "def preprocess(text):\n",
        "    doc = nlp(text.lower())\n",
        "    tokens = [\n",
        "        token.lemma_ for token in doc\n",
        "        if token.is_alpha and not token.is_stop\n",
        "    ]\n",
        "    return ' '.join(tokens)"
      ]
    },
    {
      "cell_type": "code",
      "source": [
        "# Sample resume and JD\n",
        "resume_text = \"\"\"\n",
        "Data scientist with 3+ years of experience in machine learning, NLP, Python and data visualization.\n",
        "Proficient in Python, pandas, scikit-learn, and deep learning frameworks.\n",
        "\"\"\"\n",
        "\n",
        "jd_text = \"\"\"\n",
        "Looking for a data scientist skilled in NLP, Python, and deep learning. Candidate should be familiar with ML libraries like scikit-learn.\n",
        "\"\"\""
      ],
      "metadata": {
        "id": "3GHTd1ZjGnr8"
      },
      "execution_count": null,
      "outputs": []
    },
    {
      "cell_type": "code",
      "source": [
        "# Preprocessing\n",
        "resume_clean = preprocess(resume_text)\n",
        "jd_clean = preprocess(jd_text)\n",
        "\n",
        "# TF-IDF + Cosine Similarity\n",
        "vectorizer = TfidfVectorizer()\n",
        "tfidf_matrix = vectorizer.fit_transform([resume_clean, jd_clean])\n",
        "score = cosine_similarity(tfidf_matrix[0:1], tfidf_matrix[1:2])[0][0]\n",
        "\n",
        "print(f\"✅ Resume matches JD by: {round(score * 100, 2)}%\")\n"
      ],
      "metadata": {
        "colab": {
          "base_uri": "https://localhost:8080/"
        },
        "id": "nuQZs2PwGno9",
        "outputId": "bfee43df-ee53-4da8-b1ba-2f8e164b3776"
      },
      "execution_count": null,
      "outputs": [
        {
          "output_type": "stream",
          "name": "stdout",
          "text": [
            "✅ Resume matches JD by: 39.21%\n"
          ]
        }
      ]
    },
    {
      "cell_type": "code",
      "source": [],
      "metadata": {
        "id": "BjbQsfYDGnmB"
      },
      "execution_count": null,
      "outputs": []
    }
  ]
}