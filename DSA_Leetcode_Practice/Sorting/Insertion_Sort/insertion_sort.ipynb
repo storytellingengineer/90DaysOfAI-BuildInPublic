{
  "nbformat": 4,
  "nbformat_minor": 0,
  "metadata": {
    "colab": {
      "provenance": []
    },
    "kernelspec": {
      "name": "python3",
      "display_name": "Python 3"
    },
    "language_info": {
      "name": "python"
    }
  },
  "cells": [
    {
      "cell_type": "code",
      "execution_count": 1,
      "metadata": {
        "id": "2iqz_IBtLTJV"
      },
      "outputs": [],
      "source": [
        "def insertion_sort(arr):\n",
        "    for i in range(1, len(arr)):\n",
        "        key = arr[i]\n",
        "        j = i - 1\n",
        "\n",
        "        # Move elements greater than key to one position ahead\n",
        "        while j >= 0 and arr[j] > key:\n",
        "            arr[j + 1] = arr[j]\n",
        "            j -= 1\n",
        "\n",
        "        arr[j + 1] = key\n",
        "    return arr"
      ]
    },
    {
      "cell_type": "code",
      "source": [
        "# Example usage:\n",
        "if __name__ == \"__main__\":\n",
        "    sample = [12, 11, 13, 5, 6]\n",
        "    print(\"Sorted array:\", insertion_sort(sample))"
      ],
      "metadata": {
        "id": "tqw-25QxLcpE",
        "outputId": "2c1b8ac4-8907-4727-fa7e-7e27f98f5566",
        "colab": {
          "base_uri": "https://localhost:8080/"
        }
      },
      "execution_count": 2,
      "outputs": [
        {
          "output_type": "stream",
          "name": "stdout",
          "text": [
            "Sorted array: [5, 6, 11, 12, 13]\n"
          ]
        }
      ]
    },
    {
      "cell_type": "code",
      "source": [],
      "metadata": {
        "id": "Rw4tMabuLfzB"
      },
      "execution_count": null,
      "outputs": []
    }
  ]
}