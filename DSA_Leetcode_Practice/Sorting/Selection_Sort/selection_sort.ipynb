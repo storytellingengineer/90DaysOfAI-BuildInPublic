{
  "nbformat": 4,
  "nbformat_minor": 0,
  "metadata": {
    "colab": {
      "provenance": []
    },
    "kernelspec": {
      "name": "python3",
      "display_name": "Python 3"
    },
    "language_info": {
      "name": "python"
    }
  },
  "cells": [
    {
      "cell_type": "code",
      "execution_count": 1,
      "metadata": {
        "id": "AF72oB4QpLZU"
      },
      "outputs": [],
      "source": [
        "def selection_sort(arr):\n",
        "    n = len(arr)\n",
        "    for i in range(n):\n",
        "        # Assume the minimum is the first element\n",
        "        min_idx = i\n",
        "        # Find the actual minimum element in the remaining array\n",
        "        for j in range(i + 1, n):\n",
        "            if arr[j] < arr[min_idx]:\n",
        "                min_idx = j\n",
        "        # Swap if a new minimum is found\n",
        "        arr[i], arr[min_idx] = arr[min_idx], arr[i]\n",
        "    return arr"
      ]
    },
    {
      "cell_type": "code",
      "source": [
        "# Example usage\n",
        "if __name__ == \"__main__\":\n",
        "    sample = [64, 25, 12, 22, 11]\n",
        "    print(\"Original array:\", sample)\n",
        "    print(\"Sorted array:\", selection_sort(sample))"
      ],
      "metadata": {
        "colab": {
          "base_uri": "https://localhost:8080/"
        },
        "id": "kHHoDpw5pPe5",
        "outputId": "1b2ef59a-cdcf-4bad-ae9e-2b8cda166f83"
      },
      "execution_count": 2,
      "outputs": [
        {
          "output_type": "stream",
          "name": "stdout",
          "text": [
            "Original array: [64, 25, 12, 22, 11]\n",
            "Sorted array: [11, 12, 22, 25, 64]\n"
          ]
        }
      ]
    },
    {
      "cell_type": "code",
      "source": [],
      "metadata": {
        "id": "Xkv-BkSgpSN-"
      },
      "execution_count": null,
      "outputs": []
    }
  ]
}