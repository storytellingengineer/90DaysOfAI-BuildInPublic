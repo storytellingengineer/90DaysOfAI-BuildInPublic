{
  "nbformat": 4,
  "nbformat_minor": 0,
  "metadata": {
    "colab": {
      "provenance": []
    },
    "kernelspec": {
      "name": "python3",
      "display_name": "Python 3"
    },
    "language_info": {
      "name": "python"
    }
  },
  "cells": [
    {
      "cell_type": "markdown",
      "source": [
        "# Median of Two Sorted Arrays\n",
        "\n",
        "Given two sorted arrays nums1 and nums2 of size m and n respectively, return the median of the two sorted arrays.\n",
        "\n",
        "The overall run time complexity should be O(log (m+n)).\n",
        "\n",
        "**Example 1:**\n",
        "\n",
        ">Input: nums1 = [1,3], nums2 = [2]\n",
        "\n",
        ">Output: 2.00000\n",
        "\n",
        ">Explanation: merged array = [1,2,3] and median is 2.\n",
        "\n",
        "**Example 2:**\n",
        "\n",
        ">Input: nums1 = [1,2], nums2 = [3,4]\n",
        "\n",
        ">Output: 2.50000\n",
        "\n",
        ">Explanation: merged array = [1,2,3,4] and median is (2 + 3) / 2 = 2.5.\n",
        "\n"
      ],
      "metadata": {
        "id": "G10xsNwP0HdN"
      }
    },
    {
      "cell_type": "code",
      "execution_count": 2,
      "metadata": {
        "id": "MyF775bf0GUs"
      },
      "outputs": [],
      "source": [
        "from typing import List\n",
        "class Solution:\n",
        "    def findMedianSortedArrays(self, nums1: List[int], nums2: List[int]) -> float:\n",
        "        i = j = term1 = term2 = cnt = 0\n",
        "        n1, n2 = len(nums1), len(nums2)\n",
        "        n = n1 + n2\n",
        "        while i < n1 or j < n2:\n",
        "            term1 = term2\n",
        "            if i < n1 and j < n2:\n",
        "                if nums1[i] < nums2[j]:\n",
        "                    term2 = nums1[i]\n",
        "                    i += 1\n",
        "                else:\n",
        "                    term2 = nums2[j]\n",
        "                    j += 1\n",
        "            elif i < n1:\n",
        "                term2 = nums1[i]\n",
        "                i += 1\n",
        "            elif j < n2:\n",
        "                term2 = nums2[j]\n",
        "                j += 1\n",
        "\n",
        "            if cnt == n // 2:\n",
        "                break\n",
        "            cnt += 1\n",
        "\n",
        "        if n % 2 == 0:\n",
        "            return (term1 + term2) / 2\n",
        "\n",
        "        return term2"
      ]
    },
    {
      "cell_type": "code",
      "source": [
        "res = Solution()\n",
        "res.findMedianSortedArrays([1,2], [3,4])"
      ],
      "metadata": {
        "colab": {
          "base_uri": "https://localhost:8080/"
        },
        "id": "NUXmZu490tJ6",
        "outputId": "0de41855-de9c-4648-d287-7e4c4fed1308"
      },
      "execution_count": 3,
      "outputs": [
        {
          "output_type": "execute_result",
          "data": {
            "text/plain": [
              "2.5"
            ]
          },
          "metadata": {},
          "execution_count": 3
        }
      ]
    }
  ]
}